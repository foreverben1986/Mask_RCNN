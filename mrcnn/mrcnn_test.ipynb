{
 "cells": [
  {
   "cell_type": "code",
   "execution_count": null,
   "metadata": {},
   "outputs": [],
   "source": [
    "import apple_tool as at\n",
    "import coordinates_change as cc\n",
    "import numpy as np\n",
    "\n",
    "# isInBlackList test\n",
    "blackPoints = [(4,3,2,1),(2,3,2,1),(1,3,2,1),(4,1,2,1)]\n",
    "at.isInBlackList((2.01,3,2,1), blackPoints)\n",
    "print(np.array([[1,1,1,1,1]]))\n"
   ]
  },
  {
   "cell_type": "code",
   "execution_count": null,
   "metadata": {},
   "outputs": [],
   "source": [
    "# coordinates change test\n",
    "\n",
    "__X_BIAS__ = 1\n",
    "__Y_BIAS__ = -1\n",
    "\n",
    "cc.projectCamera2Arm((0, 0, 1,10))"
   ]
  },
  {
   "cell_type": "code",
   "execution_count": null,
   "metadata": {},
   "outputs": [],
   "source": []
  }
 ],
 "metadata": {
  "kernelspec": {
   "display_name": "Python 3",
   "language": "python",
   "name": "python3"
  },
  "language_info": {
   "codemirror_mode": {
    "name": "ipython",
    "version": 3
   },
   "file_extension": ".py",
   "mimetype": "text/x-python",
   "name": "python",
   "nbconvert_exporter": "python",
   "pygments_lexer": "ipython3",
   "version": "3.5.2"
  }
 },
 "nbformat": 4,
 "nbformat_minor": 2
}
