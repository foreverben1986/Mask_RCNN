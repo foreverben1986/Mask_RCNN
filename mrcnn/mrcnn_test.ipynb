{
 "cells": [
  {
   "cell_type": "code",
   "execution_count": null,
   "metadata": {},
   "outputs": [],
   "source": [
    "import apple_tool as at\n",
    "import numpy as np\n",
    "\n",
    "# isInBlackList test\n",
    "blackPoints = [(4,3,2,1),(2,3,2,1),(1,3,2,1),(4,1,2,1)]\n",
    "at.isInBlackList((2.01,3,2,1), blackPoints)\n",
    "print(np.array([[1,1,1,1,1]]))\n"
   ]
  },
  {
   "cell_type": "code",
   "execution_count": 6,
   "metadata": {},
   "outputs": [
    {
     "name": "stdout",
     "output_type": "stream",
     "text": [
      "[[-0.08619409]\n",
      " [ 0.25047757]\n",
      " [ 1.04300441]\n",
      " [ 1.        ]]\n",
      "[[-0.15549409]\n",
      " [ 0.03047757]\n",
      " [ 0.92500441]]\n"
     ]
    },
    {
     "data": {
      "text/plain": [
       "(-0.15549409371529022,\n",
       " 0.030477565451839578,\n",
       " 0.9500044101600504,\n",
       " 0.040264429902951655)"
      ]
     },
     "execution_count": 6,
     "metadata": {},
     "output_type": "execute_result"
    }
   ],
   "source": [
    "import coordinates_change as cc\n",
    "# coordinates change test\n",
    "\n",
    "\n",
    "__X_BIAS__ = 0.0693\n",
    "__Y_BIAS__ = 0\n",
    "__Z_BIAS__ = 0.16443\n",
    "\n",
    "cc.projectCamera2Arm((-0.0861940937152902,0.21691357168129308,1.1682431928859702,0.040264429902951655))"
   ]
  },
  {
   "cell_type": "code",
   "execution_count": 2,
   "metadata": {},
   "outputs": [
    {
     "ename": "AttributeError",
     "evalue": "module 'coordinates_change' has no attribute 'projectCamera2Arm2'",
     "output_type": "error",
     "traceback": [
      "\u001b[0;31m---------------------------------------------------------------------------\u001b[0m",
      "\u001b[0;31mAttributeError\u001b[0m                            Traceback (most recent call last)",
      "\u001b[0;32m<ipython-input-2-05099c76a943>\u001b[0m in \u001b[0;36m<module>\u001b[0;34m\u001b[0m\n\u001b[1;32m      1\u001b[0m \u001b[0;34m\u001b[0m\u001b[0m\n\u001b[0;32m----> 2\u001b[0;31m \u001b[0mcc\u001b[0m\u001b[0;34m.\u001b[0m\u001b[0mprojectCamera2Arm2\u001b[0m\u001b[0;34m(\u001b[0m\u001b[0;34m(\u001b[0m\u001b[0;34m(\u001b[0m\u001b[0;36m0.09057483785730369\u001b[0m\u001b[0;34m,\u001b[0m\u001b[0;34m-\u001b[0m\u001b[0;36m0.05669364832570825\u001b[0m\u001b[0;34m,\u001b[0m\u001b[0;36m0.6198924916482386\u001b[0m\u001b[0;34m,\u001b[0m\u001b[0;36m0.036169114206644724\u001b[0m\u001b[0;34m)\u001b[0m\u001b[0;34m)\u001b[0m\u001b[0;34m)\u001b[0m\u001b[0;34m\u001b[0m\u001b[0m\n\u001b[0m",
      "\u001b[0;31mAttributeError\u001b[0m: module 'coordinates_change' has no attribute 'projectCamera2Arm2'"
     ]
    }
   ],
   "source": [
    "\n",
    "cc.projectCamera2Arm2(((0.09057483785730369,-0.05669364832570825,0.6198924916482386,0.036169114206644724)))"
   ]
  },
  {
   "cell_type": "code",
   "execution_count": 2,
   "metadata": {},
   "outputs": [
    {
     "data": {
      "text/plain": [
       "False"
      ]
     },
     "execution_count": 2,
     "metadata": {},
     "output_type": "execute_result"
    }
   ],
   "source": [
    "\n",
    "import os\n",
    "import sys\n",
    "# Root directory of the project\n",
    "ROOT_DIR = os.path.abspath(\"../\")\n",
    "# Import Mask RCNN\n",
    "sys.path.append(ROOT_DIR)  # To find local version of the library\n",
    "from mrcnn import fit\n",
    "\n",
    "fit.isInRange((1,1,3,4))"
   ]
  },
  {
   "cell_type": "code",
   "execution_count": null,
   "metadata": {},
   "outputs": [],
   "source": []
  }
 ],
 "metadata": {
  "kernelspec": {
   "display_name": "Python 3",
   "language": "python",
   "name": "python3"
  },
  "language_info": {
   "codemirror_mode": {
    "name": "ipython",
    "version": 3
   },
   "file_extension": ".py",
   "mimetype": "text/x-python",
   "name": "python",
   "nbconvert_exporter": "python",
   "pygments_lexer": "ipython3",
   "version": "3.5.2"
  }
 },
 "nbformat": 4,
 "nbformat_minor": 2
}
