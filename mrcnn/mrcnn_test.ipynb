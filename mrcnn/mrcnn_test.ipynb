{
 "cells": [
  {
   "cell_type": "code",
   "execution_count": null,
   "metadata": {},
   "outputs": [],
   "source": [
    "import apple_tool as at\n",
    "import numpy as np\n",
    "\n",
    "# isInBlackList test\n",
    "blackPoints = [(4,3,2,1),(2,3,2,1),(1,3,2,1),(4,1,2,1)]\n",
    "at.isInBlackList((2.01,3,2,1), blackPoints)\n",
    "print(np.array([[1,1,1,1,1]]))\n"
   ]
  },
  {
   "cell_type": "code",
   "execution_count": null,
   "metadata": {},
   "outputs": [],
   "source": [
    "import coordinates_change as cc\n",
    "# coordinates change test\n",
    "\n",
    "\n",
    "__X_BIAS__ = 0.0693\n",
    "__Y_BIAS__ = 0\n",
    "__Z_BIAS__ = 0.16443\n",
    "\n",
    "cc.projectCamera2Arm((-0.0861940937152902,0.21691357168129308,1.1682431928859702,0.040264429902951655))"
   ]
  },
  {
   "cell_type": "code",
   "execution_count": 2,
   "metadata": {},
   "outputs": [
    {
     "name": "stdout",
     "output_type": "stream",
     "text": [
      "(0.0, 0.00019999999999997797, 1.3995919999999997, 0.040264429902951655)\n"
     ]
    }
   ],
   "source": [
    "\n",
    "import coordinates_change as cc\n",
    "# coordinates change test\n",
    "\n",
    "\n",
    "print(cc.projectCamera2_2_camera((0,0,1.2120,0.040264429902951655)))\n",
    "# cc.projectCoord((0,0,0,0.040264429902951655))"
   ]
  },
  {
   "cell_type": "code",
   "execution_count": null,
   "metadata": {},
   "outputs": [],
   "source": [
    "\n",
    "import os\n",
    "import sys\n",
    "# Root directory of the project\n",
    "ROOT_DIR = os.path.abspath(\"../\")\n",
    "# Import Mask RCNN\n",
    "sys.path.append(ROOT_DIR)  # To find local version of the library\n",
    "from mrcnn import fit\n",
    "\n",
    "fit.isInRange((1,1,3,4))"
   ]
  },
  {
   "cell_type": "code",
   "execution_count": null,
   "metadata": {},
   "outputs": [],
   "source": []
  }
 ],
 "metadata": {
  "kernelspec": {
   "display_name": "Python 3",
   "language": "python",
   "name": "python3"
  },
  "language_info": {
   "codemirror_mode": {
    "name": "ipython",
    "version": 3
   },
   "file_extension": ".py",
   "mimetype": "text/x-python",
   "name": "python",
   "nbconvert_exporter": "python",
   "pygments_lexer": "ipython3",
   "version": "3.5.2"
  }
 },
 "nbformat": 4,
 "nbformat_minor": 2
}
