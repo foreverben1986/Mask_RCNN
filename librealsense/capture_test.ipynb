{
 "cells": [
  {
   "cell_type": "code",
   "execution_count": 37,
   "metadata": {},
   "outputs": [
    {
     "name": "stdout",
     "output_type": "stream",
     "text": [
      "color_20190519T082149.png\n"
     ]
    }
   ],
   "source": [
    "import pyrealsense2 as rs\n",
    "import numpy as np\n",
    "import matplotlib.pyplot as plt\n",
    "import matplotlib.image as mpimg\n",
    "import matplotlib.patches as patches\n",
    "import capture\n",
    "import cv2\n",
    "\n",
    "color_image,depth_image,depth_scale,intrinsics,file_name = capture.capture(True)\n",
    "print(file_name)\n"
   ]
  },
  {
   "cell_type": "code",
   "execution_count": 36,
   "metadata": {},
   "outputs": [
    {
     "name": "stdout",
     "output_type": "stream",
     "text": [
      "(720, 1280, 3)\n"
     ]
    },
    {
     "data": {
      "text/plain": [
       "True"
      ]
     },
     "execution_count": 36,
     "metadata": {},
     "output_type": "execute_result"
    }
   ],
   "source": [
    "import matplotlib.image as mpimg\n",
    "import numpy as np\n",
    "import cv2\n",
    "\n",
    "image = cv2.imread(\"/tf/logs_test_img/color_20190518T071146-Copy1.png\")\n",
    "\n",
    "lower_red = np.array([110, 110, 110])\n",
    "upper_red = np.array([130, 130, 130])\n",
    "\n",
    "print(image.shape)\n",
    "mat1 = image[:,:,1] > 100\n",
    "# mat2 = image[:,:,0] > 0\n",
    "mat3 = image[:,:,0] > 100\n",
    "image[mat1] = [0,0,0]\n",
    "# image[mat2] = 0\n",
    "# handled_image = cv2.cvtColor(mask_image, cv2.COLOR_HSV2BGR)\n",
    "\n",
    "# cv2.imwrite('/tf/logs/color_20190519T025237_test_hsv.png', hsv)\n",
    "cv2.imwrite('/tf/logs_test_img/color_20190518T071146-Copy1-test.png', image)"
   ]
  },
  {
   "cell_type": "code",
   "execution_count": 12,
   "metadata": {},
   "outputs": [
    {
     "name": "stdout",
     "output_type": "stream",
     "text": [
      "[[[0. 0.]\n",
      "  [0. 0.]]\n",
      "\n",
      " [[1. 2.]\n",
      "  [4. 5.]]\n",
      "\n",
      " [[4. 1.]\n",
      "  [2. 7.]]]\n"
     ]
    },
    {
     "data": {
      "text/plain": [
       "array([[1., 1.],\n",
       "       [2., 5.]])"
      ]
     },
     "execution_count": 12,
     "metadata": {},
     "output_type": "execute_result"
    }
   ],
   "source": [
    "import numpy as np\n",
    "\n",
    "a = np.zeros((2,2))\n",
    "b = np.array([1,2,4,5]).reshape(2,2)\n",
    "b2 = np.array([4,1,2,7]).reshape(2,2)\n",
    "c = [a, b,b2]\n",
    "d = np.array(c)\n",
    "print(d)\n",
    "np.median(c, axis=0)"
   ]
  },
  {
   "cell_type": "code",
   "execution_count": null,
   "metadata": {},
   "outputs": [],
   "source": []
  }
 ],
 "metadata": {
  "kernelspec": {
   "display_name": "Python 3",
   "language": "python",
   "name": "python3"
  },
  "language_info": {
   "codemirror_mode": {
    "name": "ipython",
    "version": 3
   },
   "file_extension": ".py",
   "mimetype": "text/x-python",
   "name": "python",
   "nbconvert_exporter": "python",
   "pygments_lexer": "ipython3",
   "version": "3.5.2"
  }
 },
 "nbformat": 4,
 "nbformat_minor": 2
}
