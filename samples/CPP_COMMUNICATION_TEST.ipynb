{
 "cells": [
  {
   "cell_type": "code",
   "execution_count": null,
   "metadata": {},
   "outputs": [],
   "source": [
    "from http.server import BaseHTTPRequestHandler, HTTPServer\n",
    "import socketserver\n",
    "import json\n",
    "\n",
    "test = \"aaaa\"\n",
    "class S(BaseHTTPRequestHandler):\n",
    "    blackList = []\n",
    "    def _set_headers(self):\n",
    "        self.send_response(200)\n",
    "        self.send_header('Content-type', 'application/json')\n",
    "        self.end_headers()\n",
    "\n",
    "    def do_GET(self):\n",
    "        self._set_headers()\n",
    "        self.wfile.write(bytes(\"2000.11234.61235.20000.2\", \"utf-8\"))\n",
    "\n",
    "    def do_POST(self):\n",
    "        self._set_headers()\n",
    "        # content_len = int(self.headers.getheader('content-length', 0))\n",
    "        content_len = int(self.headers.get('Content-Length'))\n",
    "        post_body = self.rfile.read(content_len)\n",
    "        self.blackList.append(post_body)\n",
    "        self.wfile.write(bytes(test, \"utf-8\"))\n",
    "\n",
    "    def do_HEAD(self):\n",
    "        self._set_headers()\n",
    "\n",
    "def run(server_class=HTTPServer,\n",
    "        handler_class=S):\n",
    "    server_address = ('', 8000)\n",
    "    httpd = server_class(server_address, handler_class)\n",
    "    httpd.serve_forever()\n",
    "\n",
    "run()"
   ]
  },
  {
   "cell_type": "code",
   "execution_count": null,
   "metadata": {},
   "outputs": [],
   "source": []
  }
 ],
 "metadata": {
  "kernelspec": {
   "display_name": "Python 3",
   "language": "python",
   "name": "python3"
  },
  "language_info": {
   "codemirror_mode": {
    "name": "ipython",
    "version": 3
   },
   "file_extension": ".py",
   "mimetype": "text/x-python",
   "name": "python",
   "nbconvert_exporter": "python",
   "pygments_lexer": "ipython3",
   "version": "3.5.2"
  }
 },
 "nbformat": 4,
 "nbformat_minor": 2
}
