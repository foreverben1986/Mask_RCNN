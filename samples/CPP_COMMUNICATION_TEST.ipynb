{
 "cells": [
  {
   "cell_type": "code",
   "execution_count": null,
   "metadata": {},
   "outputs": [
    {
     "name": "stderr",
     "output_type": "stream",
     "text": [
      "172.17.0.1 - - [13/May/2019 00:49:24] \"GET / HTTP/1.1\" 200 -\n"
     ]
    },
    {
     "name": "stdout",
     "output_type": "stream",
     "text": [
      "[]\n"
     ]
    },
    {
     "name": "stderr",
     "output_type": "stream",
     "text": [
      "172.17.0.1 - - [13/May/2019 00:49:26] \"POST / HTTP/1.1\" 200 -\n",
      "Traceback (most recent call last):\n",
      "  File \"/usr/lib/python3.5/socketserver.py\", line 313, in _handle_request_noblock\n",
      "    self.process_request(request, client_address)\n",
      "  File \"/usr/lib/python3.5/socketserver.py\", line 341, in process_request\n",
      "    self.finish_request(request, client_address)\n",
      "  File \"/usr/lib/python3.5/socketserver.py\", line 354, in finish_request\n",
      "    self.RequestHandlerClass(request, client_address, self)\n",
      "  File \"/usr/lib/python3.5/socketserver.py\", line 681, in __init__\n",
      "    self.handle()\n",
      "  File \"/usr/lib/python3.5/http/server.py\", line 422, in handle\n",
      "    self.handle_one_request()\n",
      "  File \"/usr/lib/python3.5/http/server.py\", line 410, in handle_one_request\n",
      "    method()\n",
      "  File \"<ipython-input-1-ee094bf4d8fb>\", line 26, in do_POST\n",
      "    print(self.currentPoint2)\n",
      "AttributeError: 'S' object has no attribute 'currentPoint2'\n"
     ]
    },
    {
     "name": "stdout",
     "output_type": "stream",
     "text": [
      "----------------------------------------\n",
      "Exception happened during processing of request from ('172.17.0.1', 35944)\n",
      "----------------------------------------\n"
     ]
    }
   ],
   "source": [
    "from http.server import BaseHTTPRequestHandler, HTTPServer\n",
    "import socketserver\n",
    "import json\n",
    "\n",
    "test = \"aaaa\"\n",
    "class S(BaseHTTPRequestHandler):\n",
    "    blackList = []\n",
    "    currentPoint = (0,0,0)\n",
    "    currentPoint2 = (0,0,0)\n",
    "    def _set_headers(self):\n",
    "        self.send_response(200)\n",
    "        self.send_header('Content-type', 'application/json')\n",
    "        self.end_headers()\n",
    "\n",
    "    def do_GET(self):\n",
    "        self._set_headers()\n",
    "        self.currentPoint2=(1,1,1)\n",
    "        S.currentPoint=(1,1,1)\n",
    "        print(self.blackList)\n",
    "        self.wfile.write(bytes(\"2000.11234.61235.20000.2\", \"utf-8\"))\n",
    "\n",
    "    def do_POST(self):\n",
    "        self._set_headers()\n",
    "        # content_len = int(self.headers.getheader('content-length', 0))\n",
    "        content_len = int(self.headers.get('Content-Length'))\n",
    "        post_body = self.rfile.read(content_len)\n",
    "        print(self.currentPoint2)\n",
    "        print(S.currentPoint)\n",
    "        self.blackList.append(post_body)\n",
    "        self.wfile.write(bytes(test, \"utf-8\"))\n",
    "\n",
    "    def do_HEAD(self):\n",
    "        self._set_headers()\n",
    "\n",
    "def run(server_class=HTTPServer,\n",
    "        handler_class=S):\n",
    "    server_address = ('', 8000)\n",
    "    httpd = server_class(server_address, handler_class)\n",
    "    httpd.serve_forever()\n",
    "\n",
    "run()"
   ]
  },
  {
   "cell_type": "code",
   "execution_count": null,
   "metadata": {},
   "outputs": [],
   "source": []
  }
 ],
 "metadata": {
  "kernelspec": {
   "display_name": "Python 3",
   "language": "python",
   "name": "python3"
  },
  "language_info": {
   "codemirror_mode": {
    "name": "ipython",
    "version": 3
   },
   "file_extension": ".py",
   "mimetype": "text/x-python",
   "name": "python",
   "nbconvert_exporter": "python",
   "pygments_lexer": "ipython3",
   "version": "3.5.2"
  }
 },
 "nbformat": 4,
 "nbformat_minor": 2
}
